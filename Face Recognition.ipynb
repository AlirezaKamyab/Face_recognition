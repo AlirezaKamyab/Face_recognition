{
 "cells": [
  {
   "cell_type": "code",
   "execution_count": 1,
   "id": "a809de8b-4cb0-434a-ba3c-bc3cc0363404",
   "metadata": {},
   "outputs": [
    {
     "name": "stdout",
     "output_type": "stream",
     "text": [
      "tensorflow 2.17.0\n"
     ]
    }
   ],
   "source": [
    "import os\n",
    "os.environ['TF_CPP_MIN_LOG_LEVEL'] = '20'\n",
    "\n",
    "import tensorflow as tf\n",
    "import numpy as np\n",
    "import matplotlib.pyplot as plt\n",
    "import seaborn as sns\n",
    "import cv2\n",
    "from keras.applications import ResNet50\n",
    "from keras.applications.resnet50 import preprocess_input\n",
    "import time\n",
    "from tensorflow import keras\n",
    "\n",
    "tf.config.optimizer.set_jit(True)\n",
    "print('tensorflow', tf.__version__)"
   ]
  },
  {
   "cell_type": "markdown",
   "id": "d8b7b44e-dad7-43da-a755-c5778694a813",
   "metadata": {},
   "source": [
    "## Creating the dataset\n",
    "### Loading data"
   ]
  },
  {
   "cell_type": "code",
   "execution_count": 2,
   "id": "45ec18fe-4661-4a75-9690-702948136596",
   "metadata": {},
   "outputs": [],
   "source": [
    "train_dir = './temp/train/'\n",
    "valid_dir = './temp/validation/'\n",
    "\n",
    "def get_id_img(directory):\n",
    "    res = {}\n",
    "    for identity in os.listdir(directory):\n",
    "        temp_dir = os.path.join(directory, identity)\n",
    "        lst = []\n",
    "        for img_path in os.listdir(temp_dir):\n",
    "            lst.append(os.path.join(directory, identity, img_path))\n",
    "        res[int(identity)] = lst\n",
    "        \n",
    "    return res\n",
    "\n",
    "train_data = get_id_img(train_dir)\n",
    "valid_data = get_id_img(valid_dir)"
   ]
  },
  {
   "cell_type": "markdown",
   "id": "d918a793-c9a7-4cfe-bc9b-ef3c9ddf33a5",
   "metadata": {},
   "source": [
    "### Creating triplet dataset"
   ]
  },
  {
   "cell_type": "code",
   "execution_count": 3,
   "id": "c36620eb-b553-4583-a964-d62536408fc0",
   "metadata": {},
   "outputs": [
    {
     "name": "stdout",
     "output_type": "stream",
     "text": [
      "Preparting train triplet dataset\n",
      " 2000 out of  2000\n",
      "Preparing validation triplet dataset\n",
      "33333 out of 33333\n"
     ]
    }
   ],
   "source": [
    "def get_triplet_dataset(data):\n",
    "    res = []\n",
    "    cnt = 0\n",
    "    num_classes = len(data)\n",
    "    min_class = min(data.keys())\n",
    "    for identity in data.keys():\n",
    "        id_images = data[identity]\n",
    "        for i in range(len(id_images) - 1):\n",
    "            # Anchor image\n",
    "            anchor_path = id_images[i]\n",
    "            # Take an image with the same identity for positive sample\n",
    "            positive_path = id_images[i + 1]\n",
    "    \n",
    "            # Take an image with different identity for negative sample\n",
    "            addition = np.random.randint(1, num_classes)\n",
    "            negative_id = (identity + addition) % num_classes + min_class\n",
    "            neg_id_images = data[negative_id]\n",
    "            negative_path = neg_id_images[i]\n",
    "    \n",
    "            res.append([anchor_path, positive_path, negative_path])\n",
    "\n",
    "        cnt += 1\n",
    "        print(f'\\r{cnt:>5} out of {len(data.keys()):>5}', end='')\n",
    "    print()\n",
    "    return res\n",
    "\n",
    "print('Preparting train triplet dataset')\n",
    "train_triplet = get_triplet_dataset(train_data)\n",
    "print('Preparing validation triplet dataset')\n",
    "valid_triplet = get_triplet_dataset(valid_data)"
   ]
  },
  {
   "cell_type": "markdown",
   "id": "dbb5b939-5070-4864-b487-eeacdaa17cd0",
   "metadata": {},
   "source": [
    "## Create the pipeline"
   ]
  },
  {
   "cell_type": "code",
   "execution_count": 4,
   "id": "7b217096-16d6-4d79-82be-ade22ab7b0d2",
   "metadata": {},
   "outputs": [],
   "source": [
    "IMAGE_SIZE = (224, 224)\n",
    "AUTOTUNE = tf.data.experimental.AUTOTUNE\n",
    "BATCH_SIZE = 16\n",
    "BUFFER_SIZE = 1000\n",
    "\n",
    "def get_image(path):\n",
    "    file = tf.io.read_file(path)\n",
    "    img = tf.image.decode_png(file, channels=3)\n",
    "    return img\n",
    "\n",
    "\n",
    "def get_images(anchor_path, positive_path, negative_path):\n",
    "    anchor = get_image(anchor_path)\n",
    "    positive = get_image(positive_path)\n",
    "    negative = get_image(negative_path)\n",
    "    return anchor, positive, negative\n",
    "\n",
    "\n",
    "def normalize(image):\n",
    "    image = tf.cast(image, tf.float32)\n",
    "    return preprocess_input(image)\n",
    "\n",
    "\n",
    "def augment(image):\n",
    "    image = tf.image.random_contrast(image, 0.9, 1.2)\n",
    "    image = tf.image.random_brightness(image, 0.2)\n",
    "    image = tf.image.random_flip_left_right(image)\n",
    "    image = tf.image.random_saturation(image, 0.9, 1.2)\n",
    "    image = tf.clip_by_value(image, 0, 255)\n",
    "    return image\n",
    "\n",
    "\n",
    "def get_training_set(inputs):\n",
    "    anchor_path, positive_path, negative_path = inputs[0], inputs[1], inputs[2]\n",
    "    \n",
    "    # Getting images\n",
    "    anchor, positive, negative = get_images(anchor_path, positive_path, negative_path)\n",
    "\n",
    "    # # Random jpeg quality is done on integer images\n",
    "    # anchor = tf.image.random_jpeg_quality(anchor, 50, 100)\n",
    "    # positive = tf.image.random_jpeg_quality(positive, 50, 100)\n",
    "    # negative = tf.image.random_jpeg_quality(negative, 50, 100)\n",
    "\n",
    "    # Resize the images\n",
    "    anchor = tf.image.resize(anchor, IMAGE_SIZE)\n",
    "    positive = tf.image.resize(positive, IMAGE_SIZE)\n",
    "    negative = tf.image.resize(negative, IMAGE_SIZE)\n",
    "\n",
    "    # do augment\n",
    "    # anchor = augment(anchor)\n",
    "    # positive = augment(positive)\n",
    "    # negative = augment(negative)\n",
    "\n",
    "    # normalize\n",
    "    anchor = normalize(anchor)\n",
    "    positive = normalize(positive)\n",
    "    negative = normalize(negative)\n",
    "\n",
    "    return anchor, positive, negative\n",
    "\n",
    "\n",
    "def get_validation_set(inputs):\n",
    "    anchor_path, positive_path, negative_path = inputs[0], inputs[1], inputs[2]\n",
    "    \n",
    "    # Getting imagestrain_triplet\n",
    "    anchor, positive, negative = get_images(anchor_path, positive_path, negative_path)\n",
    "\n",
    "    # Resize the images\n",
    "    anchor = tf.image.resize(anchor, IMAGE_SIZE)\n",
    "    positive = tf.image.resize(positive, IMAGE_SIZE)\n",
    "    negative = tf.image.resize(negative, IMAGE_SIZE)\n",
    "\n",
    "    # normalize\n",
    "    anchor = normalize(anchor)\n",
    "    positive = normalize(positive)\n",
    "    negative = normalize(negative)\n",
    "\n",
    "    return anchor, positive, negative\n",
    "\n",
    "\n",
    "train_ds = tf.data.Dataset.from_tensor_slices(train_triplet)\n",
    "train_ds = train_ds.map(get_training_set, num_parallel_calls=AUTOTUNE)\n",
    "train_ds = train_ds.shuffle(buffer_size=BUFFER_SIZE)\n",
    "train_ds = train_ds.batch(BATCH_SIZE, num_parallel_calls=AUTOTUNE, drop_remainder=True)\n",
    "train_ds = train_ds.shuffle(1000)\n",
    "train_ds = train_ds.prefetch(AUTOTUNE)\n",
    "\n",
    "valid_ds = tf.data.Dataset.from_tensor_slices(valid_triplet)\n",
    "valid_ds = valid_ds.map(get_validation_set, num_parallel_calls=AUTOTUNE)\n",
    "valid_ds = valid_ds.batch(BATCH_SIZE, num_parallel_calls=AUTOTUNE)\n",
    "valid_ds = valid_ds.prefetch(AUTOTUNE)\n",
    "\n",
    "del train_triplet\n",
    "del valid_triplet"
   ]
  },
  {
   "cell_type": "code",
   "execution_count": null,
   "id": "9d87f7ff-2d2e-4432-bbb6-5af508720b2f",
   "metadata": {},
   "outputs": [],
   "source": [
    "num_rows = 10\n",
    "cnt = 0\n",
    "plt.figure(figsize=(5, num_rows * 2))\n",
    "\n",
    "for anc, pos, neg in train_ds.take(1):\n",
    "    for i in range(num_rows):\n",
    "        cnt += 1\n",
    "        ax = plt.subplot(num_rows, 3, cnt)\n",
    "        ax.imshow(anc[i] / 255.0)\n",
    "        ax.axis('off')\n",
    "        ax.set_title('Anchor')\n",
    "\n",
    "        cnt += 1\n",
    "        ax = plt.subplot(num_rows, 3, cnt)\n",
    "        ax.imshow(pos[i] / 255.0)\n",
    "        ax.axis('off')\n",
    "        ax.set_title('Positive')\n",
    "\n",
    "        cnt += 1\n",
    "        ax = plt.subplot(num_rows, 3, cnt)\n",
    "        ax.imshow(neg[i] / 255.0)\n",
    "        ax.axis('off')\n",
    "        ax.set_title('Negative')"
   ]
  },
  {
   "cell_type": "markdown",
   "id": "59d2fa93-c5c6-4423-8a93-365eb2af9c70",
   "metadata": {},
   "source": [
    "## Create the model"
   ]
  },
  {
   "cell_type": "code",
   "execution_count": 6,
   "id": "aafc9635-62b8-4d5a-b6b3-7e42ba656792",
   "metadata": {},
   "outputs": [],
   "source": [
    "from keras.layers import Dropout, Input, GlobalAveragePooling2D, Layer, Dense, Flatten, BatchNormalization, Activation, Lambda\n",
    "from keras.models import Model"
   ]
  },
  {
   "cell_type": "code",
   "execution_count": 7,
   "id": "56fa4948-0e15-44d1-9fad-5a2c61218fb0",
   "metadata": {},
   "outputs": [],
   "source": [
    "base_model = ResNet50(include_top=False, input_shape=IMAGE_SIZE + (3,))"
   ]
  },
  {
   "cell_type": "code",
   "execution_count": 8,
   "id": "e8267ea6-42e4-4b22-b67f-8fce58dba5e3",
   "metadata": {},
   "outputs": [
    {
     "name": "stdout",
     "output_type": "stream",
     "text": [
      "0 input_layer\n",
      "1 conv1_pad\n",
      "2 conv1_conv\n",
      "3 conv1_bn\n",
      "4 conv1_relu\n",
      "5 pool1_pad\n",
      "6 pool1_pool\n",
      "7 conv2_block1_1_conv\n",
      "8 conv2_block1_1_bn\n",
      "9 conv2_block1_1_relu\n",
      "10 conv2_block1_2_conv\n",
      "11 conv2_block1_2_bn\n",
      "12 conv2_block1_2_relu\n",
      "13 conv2_block1_0_conv\n",
      "14 conv2_block1_3_conv\n",
      "15 conv2_block1_0_bn\n",
      "16 conv2_block1_3_bn\n",
      "17 conv2_block1_add\n",
      "18 conv2_block1_out\n",
      "19 conv2_block2_1_conv\n",
      "20 conv2_block2_1_bn\n",
      "21 conv2_block2_1_relu\n",
      "22 conv2_block2_2_conv\n",
      "23 conv2_block2_2_bn\n",
      "24 conv2_block2_2_relu\n",
      "25 conv2_block2_3_conv\n",
      "26 conv2_block2_3_bn\n",
      "27 conv2_block2_add\n",
      "28 conv2_block2_out\n",
      "29 conv2_block3_1_conv\n",
      "30 conv2_block3_1_bn\n",
      "31 conv2_block3_1_relu\n",
      "32 conv2_block3_2_conv\n",
      "33 conv2_block3_2_bn\n",
      "34 conv2_block3_2_relu\n",
      "35 conv2_block3_3_conv\n",
      "36 conv2_block3_3_bn\n",
      "37 conv2_block3_add\n",
      "38 conv2_block3_out\n",
      "39 conv3_block1_1_conv\n",
      "40 conv3_block1_1_bn\n",
      "41 conv3_block1_1_relu\n",
      "42 conv3_block1_2_conv\n",
      "43 conv3_block1_2_bn\n",
      "44 conv3_block1_2_relu\n",
      "45 conv3_block1_0_conv\n",
      "46 conv3_block1_3_conv\n",
      "47 conv3_block1_0_bn\n",
      "48 conv3_block1_3_bn\n",
      "49 conv3_block1_add\n",
      "50 conv3_block1_out\n",
      "51 conv3_block2_1_conv\n",
      "52 conv3_block2_1_bn\n",
      "53 conv3_block2_1_relu\n",
      "54 conv3_block2_2_conv\n",
      "55 conv3_block2_2_bn\n",
      "56 conv3_block2_2_relu\n",
      "57 conv3_block2_3_conv\n",
      "58 conv3_block2_3_bn\n",
      "59 conv3_block2_add\n",
      "60 conv3_block2_out\n",
      "61 conv3_block3_1_conv\n",
      "62 conv3_block3_1_bn\n",
      "63 conv3_block3_1_relu\n",
      "64 conv3_block3_2_conv\n",
      "65 conv3_block3_2_bn\n",
      "66 conv3_block3_2_relu\n",
      "67 conv3_block3_3_conv\n",
      "68 conv3_block3_3_bn\n",
      "69 conv3_block3_add\n",
      "70 conv3_block3_out\n",
      "71 conv3_block4_1_conv\n",
      "72 conv3_block4_1_bn\n",
      "73 conv3_block4_1_relu\n",
      "74 conv3_block4_2_conv\n",
      "75 conv3_block4_2_bn\n",
      "76 conv3_block4_2_relu\n",
      "77 conv3_block4_3_conv\n",
      "78 conv3_block4_3_bn\n",
      "79 conv3_block4_add\n",
      "80 conv3_block4_out\n",
      "81 conv4_block1_1_conv\n",
      "82 conv4_block1_1_bn\n",
      "83 conv4_block1_1_relu\n",
      "84 conv4_block1_2_conv\n",
      "85 conv4_block1_2_bn\n",
      "86 conv4_block1_2_relu\n",
      "87 conv4_block1_0_conv\n",
      "88 conv4_block1_3_conv\n",
      "89 conv4_block1_0_bn\n",
      "90 conv4_block1_3_bn\n",
      "91 conv4_block1_add\n",
      "92 conv4_block1_out\n",
      "93 conv4_block2_1_conv\n",
      "94 conv4_block2_1_bn\n",
      "95 conv4_block2_1_relu\n",
      "96 conv4_block2_2_conv\n",
      "97 conv4_block2_2_bn\n",
      "98 conv4_block2_2_relu\n",
      "99 conv4_block2_3_conv\n",
      "100 conv4_block2_3_bn\n",
      "101 conv4_block2_add\n",
      "102 conv4_block2_out\n",
      "103 conv4_block3_1_conv\n",
      "104 conv4_block3_1_bn\n",
      "105 conv4_block3_1_relu\n",
      "106 conv4_block3_2_conv\n",
      "107 conv4_block3_2_bn\n",
      "108 conv4_block3_2_relu\n",
      "109 conv4_block3_3_conv\n",
      "110 conv4_block3_3_bn\n",
      "111 conv4_block3_add\n",
      "112 conv4_block3_out\n",
      "113 conv4_block4_1_conv\n",
      "114 conv4_block4_1_bn\n",
      "115 conv4_block4_1_relu\n",
      "116 conv4_block4_2_conv\n",
      "117 conv4_block4_2_bn\n",
      "118 conv4_block4_2_relu\n",
      "119 conv4_block4_3_conv\n",
      "120 conv4_block4_3_bn\n",
      "121 conv4_block4_add\n",
      "122 conv4_block4_out\n",
      "123 conv4_block5_1_conv\n",
      "124 conv4_block5_1_bn\n",
      "125 conv4_block5_1_relu\n",
      "126 conv4_block5_2_conv\n",
      "127 conv4_block5_2_bn\n",
      "128 conv4_block5_2_relu\n",
      "129 conv4_block5_3_conv\n",
      "130 conv4_block5_3_bn\n",
      "131 conv4_block5_add\n",
      "132 conv4_block5_out\n",
      "133 conv4_block6_1_conv\n",
      "134 conv4_block6_1_bn\n",
      "135 conv4_block6_1_relu\n",
      "136 conv4_block6_2_conv\n",
      "137 conv4_block6_2_bn\n",
      "138 conv4_block6_2_relu\n",
      "139 conv4_block6_3_conv\n",
      "140 conv4_block6_3_bn\n",
      "141 conv4_block6_add\n",
      "142 conv4_block6_out\n",
      "143 conv5_block1_1_conv\n",
      "144 conv5_block1_1_bn\n",
      "145 conv5_block1_1_relu\n",
      "146 conv5_block1_2_conv\n",
      "147 conv5_block1_2_bn\n",
      "148 conv5_block1_2_relu\n",
      "149 conv5_block1_0_conv\n",
      "150 conv5_block1_3_conv\n",
      "151 conv5_block1_0_bn\n",
      "152 conv5_block1_3_bn\n",
      "153 conv5_block1_add\n",
      "154 conv5_block1_out\n",
      "155 conv5_block2_1_conv\n",
      "156 conv5_block2_1_bn\n",
      "157 conv5_block2_1_relu\n",
      "158 conv5_block2_2_conv\n",
      "159 conv5_block2_2_bn\n",
      "160 conv5_block2_2_relu\n",
      "161 conv5_block2_3_conv\n",
      "162 conv5_block2_3_bn\n",
      "163 conv5_block2_add\n",
      "164 conv5_block2_out\n",
      "165 conv5_block3_1_conv\n",
      "166 conv5_block3_1_bn\n",
      "167 conv5_block3_1_relu\n",
      "168 conv5_block3_2_conv\n",
      "169 conv5_block3_2_bn\n",
      "170 conv5_block3_2_relu\n",
      "171 conv5_block3_3_conv\n",
      "172 conv5_block3_3_bn\n",
      "173 conv5_block3_add\n",
      "174 conv5_block3_out\n"
     ]
    }
   ],
   "source": [
    "for i, l in enumerate(base_model.layers):\n",
    "    print(i, l.name)"
   ]
  },
  {
   "cell_type": "code",
   "execution_count": 9,
   "id": "7adc86f5-1663-488c-80a7-87dab00ba316",
   "metadata": {},
   "outputs": [],
   "source": [
    "class SiameseNetwork(Model):\n",
    "    def __init__(self, units, dropout_rate=0.1):\n",
    "        super(SiameseNetwork, self).__init__()\n",
    "        \n",
    "        self.base_model = ResNet50(include_top=False, input_shape=IMAGE_SIZE + (3,))\n",
    "\n",
    "        self.avg_pool = GlobalAveragePooling2D(name='global_avg')\n",
    "        self.dropout = Dropout(dropout_rate, name='dropout')\n",
    "        self.encoder_output = Dense(units, name='encoder_output')\n",
    "        self.norm = Lambda(lambda x: tf.linalg.l2_normalize(x, axis=-1))\n",
    "\n",
    "    def build(self, input_shape):\n",
    "        inputs = Input(shape=input_shape)\n",
    "        self.call(inputs)\n",
    "        self.built = True\n",
    "\n",
    "    def call(self, inputs, training=False):\n",
    "        x = self.base_model(inputs, training=training)\n",
    "        x = self.avg_pool(x)\n",
    "        x = self.encoder_output(x)\n",
    "        x = self.norm(x)\n",
    "        return x"
   ]
  },
  {
   "cell_type": "code",
   "execution_count": 10,
   "id": "28d52da1-ebad-4922-84d5-f4b39d5caf8c",
   "metadata": {},
   "outputs": [
    {
     "data": {
      "text/html": [
       "<pre style=\"white-space:pre;overflow-x:auto;line-height:normal;font-family:Menlo,'DejaVu Sans Mono',consolas,'Courier New',monospace\"><span style=\"font-weight: bold\">Model: \"siamese_network\"</span>\n",
       "</pre>\n"
      ],
      "text/plain": [
       "\u001b[1mModel: \"siamese_network\"\u001b[0m\n"
      ]
     },
     "metadata": {},
     "output_type": "display_data"
    },
    {
     "data": {
      "text/html": [
       "<pre style=\"white-space:pre;overflow-x:auto;line-height:normal;font-family:Menlo,'DejaVu Sans Mono',consolas,'Courier New',monospace\">┏━━━━━━━━━━━━━━━━━━━━━━━━━━━━━━━━━┳━━━━━━━━━━━━━━━━━━━━━━━━┳━━━━━━━━━━━━━━━┓\n",
       "┃<span style=\"font-weight: bold\"> Layer (type)                    </span>┃<span style=\"font-weight: bold\"> Output Shape           </span>┃<span style=\"font-weight: bold\">       Param # </span>┃\n",
       "┡━━━━━━━━━━━━━━━━━━━━━━━━━━━━━━━━━╇━━━━━━━━━━━━━━━━━━━━━━━━╇━━━━━━━━━━━━━━━┩\n",
       "│ resnet50 (<span style=\"color: #0087ff; text-decoration-color: #0087ff\">Functional</span>)           │ (<span style=\"color: #00d7ff; text-decoration-color: #00d7ff\">None</span>, <span style=\"color: #00af00; text-decoration-color: #00af00\">7</span>, <span style=\"color: #00af00; text-decoration-color: #00af00\">7</span>, <span style=\"color: #00af00; text-decoration-color: #00af00\">2048</span>)     │    <span style=\"color: #00af00; text-decoration-color: #00af00\">23,587,712</span> │\n",
       "├─────────────────────────────────┼────────────────────────┼───────────────┤\n",
       "│ global_avg                      │ (<span style=\"color: #00d7ff; text-decoration-color: #00d7ff\">None</span>, <span style=\"color: #00af00; text-decoration-color: #00af00\">2048</span>)           │             <span style=\"color: #00af00; text-decoration-color: #00af00\">0</span> │\n",
       "│ (<span style=\"color: #0087ff; text-decoration-color: #0087ff\">GlobalAveragePooling2D</span>)        │                        │               │\n",
       "├─────────────────────────────────┼────────────────────────┼───────────────┤\n",
       "│ dropout (<span style=\"color: #0087ff; text-decoration-color: #0087ff\">Dropout</span>)               │ ?                      │   <span style=\"color: #00af00; text-decoration-color: #00af00\">0</span> (unbuilt) │\n",
       "├─────────────────────────────────┼────────────────────────┼───────────────┤\n",
       "│ encoder_output (<span style=\"color: #0087ff; text-decoration-color: #0087ff\">Dense</span>)          │ (<span style=\"color: #00d7ff; text-decoration-color: #00d7ff\">None</span>, <span style=\"color: #00af00; text-decoration-color: #00af00\">128</span>)            │       <span style=\"color: #00af00; text-decoration-color: #00af00\">262,272</span> │\n",
       "├─────────────────────────────────┼────────────────────────┼───────────────┤\n",
       "│ lambda (<span style=\"color: #0087ff; text-decoration-color: #0087ff\">Lambda</span>)                 │ (<span style=\"color: #00d7ff; text-decoration-color: #00d7ff\">None</span>, <span style=\"color: #00af00; text-decoration-color: #00af00\">128</span>)            │             <span style=\"color: #00af00; text-decoration-color: #00af00\">0</span> │\n",
       "└─────────────────────────────────┴────────────────────────┴───────────────┘\n",
       "</pre>\n"
      ],
      "text/plain": [
       "┏━━━━━━━━━━━━━━━━━━━━━━━━━━━━━━━━━┳━━━━━━━━━━━━━━━━━━━━━━━━┳━━━━━━━━━━━━━━━┓\n",
       "┃\u001b[1m \u001b[0m\u001b[1mLayer (type)                   \u001b[0m\u001b[1m \u001b[0m┃\u001b[1m \u001b[0m\u001b[1mOutput Shape          \u001b[0m\u001b[1m \u001b[0m┃\u001b[1m \u001b[0m\u001b[1m      Param #\u001b[0m\u001b[1m \u001b[0m┃\n",
       "┡━━━━━━━━━━━━━━━━━━━━━━━━━━━━━━━━━╇━━━━━━━━━━━━━━━━━━━━━━━━╇━━━━━━━━━━━━━━━┩\n",
       "│ resnet50 (\u001b[38;5;33mFunctional\u001b[0m)           │ (\u001b[38;5;45mNone\u001b[0m, \u001b[38;5;34m7\u001b[0m, \u001b[38;5;34m7\u001b[0m, \u001b[38;5;34m2048\u001b[0m)     │    \u001b[38;5;34m23,587,712\u001b[0m │\n",
       "├─────────────────────────────────┼────────────────────────┼───────────────┤\n",
       "│ global_avg                      │ (\u001b[38;5;45mNone\u001b[0m, \u001b[38;5;34m2048\u001b[0m)           │             \u001b[38;5;34m0\u001b[0m │\n",
       "│ (\u001b[38;5;33mGlobalAveragePooling2D\u001b[0m)        │                        │               │\n",
       "├─────────────────────────────────┼────────────────────────┼───────────────┤\n",
       "│ dropout (\u001b[38;5;33mDropout\u001b[0m)               │ ?                      │   \u001b[38;5;34m0\u001b[0m (unbuilt) │\n",
       "├─────────────────────────────────┼────────────────────────┼───────────────┤\n",
       "│ encoder_output (\u001b[38;5;33mDense\u001b[0m)          │ (\u001b[38;5;45mNone\u001b[0m, \u001b[38;5;34m128\u001b[0m)            │       \u001b[38;5;34m262,272\u001b[0m │\n",
       "├─────────────────────────────────┼────────────────────────┼───────────────┤\n",
       "│ lambda (\u001b[38;5;33mLambda\u001b[0m)                 │ (\u001b[38;5;45mNone\u001b[0m, \u001b[38;5;34m128\u001b[0m)            │             \u001b[38;5;34m0\u001b[0m │\n",
       "└─────────────────────────────────┴────────────────────────┴───────────────┘\n"
      ]
     },
     "metadata": {},
     "output_type": "display_data"
    },
    {
     "data": {
      "text/html": [
       "<pre style=\"white-space:pre;overflow-x:auto;line-height:normal;font-family:Menlo,'DejaVu Sans Mono',consolas,'Courier New',monospace\"><span style=\"font-weight: bold\"> Total params: </span><span style=\"color: #00af00; text-decoration-color: #00af00\">23,849,984</span> (90.98 MB)\n",
       "</pre>\n"
      ],
      "text/plain": [
       "\u001b[1m Total params: \u001b[0m\u001b[38;5;34m23,849,984\u001b[0m (90.98 MB)\n"
      ]
     },
     "metadata": {},
     "output_type": "display_data"
    },
    {
     "data": {
      "text/html": [
       "<pre style=\"white-space:pre;overflow-x:auto;line-height:normal;font-family:Menlo,'DejaVu Sans Mono',consolas,'Courier New',monospace\"><span style=\"font-weight: bold\"> Trainable params: </span><span style=\"color: #00af00; text-decoration-color: #00af00\">9,193,600</span> (35.07 MB)\n",
       "</pre>\n"
      ],
      "text/plain": [
       "\u001b[1m Trainable params: \u001b[0m\u001b[38;5;34m9,193,600\u001b[0m (35.07 MB)\n"
      ]
     },
     "metadata": {},
     "output_type": "display_data"
    },
    {
     "data": {
      "text/html": [
       "<pre style=\"white-space:pre;overflow-x:auto;line-height:normal;font-family:Menlo,'DejaVu Sans Mono',consolas,'Courier New',monospace\"><span style=\"font-weight: bold\"> Non-trainable params: </span><span style=\"color: #00af00; text-decoration-color: #00af00\">14,656,384</span> (55.91 MB)\n",
       "</pre>\n"
      ],
      "text/plain": [
       "\u001b[1m Non-trainable params: \u001b[0m\u001b[38;5;34m14,656,384\u001b[0m (55.91 MB)\n"
      ]
     },
     "metadata": {},
     "output_type": "display_data"
    }
   ],
   "source": [
    "siamese_net = SiameseNetwork(128)\n",
    "\n",
    "siamese_net.base_model.trainable = True\n",
    "for l in siamese_net.base_model.layers[:155]:\n",
    "    l.trainable = False\n",
    "    \n",
    "siamese_net.build(input_shape=IMAGE_SIZE + (3,))\n",
    "siamese_net.summary()"
   ]
  },
  {
   "cell_type": "markdown",
   "id": "ea6ea268-cc6c-49fc-8405-f6b66c5b853e",
   "metadata": {},
   "source": [
    "## Compile the model"
   ]
  },
  {
   "cell_type": "code",
   "execution_count": 11,
   "id": "fe444bfb-8a8a-468c-8b14-158effb13f95",
   "metadata": {},
   "outputs": [],
   "source": [
    "from keras.optimizers import Adam\n",
    "from keras.metrics import Metric\n",
    "from keras.callbacks import ReduceLROnPlateau"
   ]
  },
  {
   "cell_type": "markdown",
   "id": "059d9b1c-05ef-446c-bdc7-1092b8a8d381",
   "metadata": {},
   "source": [
    "### Triplet loss\n",
    "Given three images to the neural-network to generate embeddings of that image we use triplet loss to optimize the network in a way to let the network recognize faces in the image.<br>\n",
    "Each time ```anchor```, ```positive``` and ```negative``` images are given; ```anchor``` is the image with a face just like ```positive``` and ```negative``` is another face that is not like the other two. Using triplet loss we make the network choose vectors for ```anchor``` and ```positive``` in a way that their euclidean distance is minimized and a vector for ```negative``` in a way that its euclidean distance from ```anchor``` is maximized.\n",
    "\n",
    "$$\n",
    "\\begin{align}\n",
    "    d_{ap} &= \\sqrt{\\sum_{j}(\\text{anchor}_j - \\text{positive}_j)^2}\\\\\n",
    "    d_{an} &= \\sqrt{\\sum_{j}(\\text{anchor}_j - \\text{negative}_j)^2}\n",
    "\\end{align}\n",
    "$$\n",
    "\n",
    "We wish to have $d_{ap} \\le d_{an}$ in other words $d_{ap} - d_{an} \\le 0$. However network might learn an embedding of all zeros, in that case the criteria is met and distances of $d_{ap}$ and $d_{ap}$ are $0$.<br>\n",
    "Let's define a margin called ```alpha``` so that $d_{ap} - d_{an} \\le -\\alpha$, meaning that distance between anchor and positive is less than distance of anchor and negative by the amount of $\\alpha$. \n",
    "$$\n",
    "\\begin{align}\n",
    "    d_{ap} - d_{an} + \\alpha \\le 0\n",
    "\\end{align}\n",
    "$$"
   ]
  },
  {
   "cell_type": "code",
   "execution_count": 12,
   "id": "d7c81ff4-6e43-4afa-be0b-e16933c7ddb6",
   "metadata": {},
   "outputs": [],
   "source": [
    "def get_triplet_loss(alpha=0.5):\n",
    "    def loss_func(anchor, positive, negative):\n",
    "        d_ap = tf.reduce_sum(tf.square(anchor - positive), axis=-1)\n",
    "        d_an = tf.reduce_sum(tf.square(anchor - negative), axis=-1)\n",
    "        \n",
    "        loss = tf.maximum(d_ap - d_an + alpha, 0)\n",
    "        return tf.reduce_mean(loss)\n",
    "    return loss_func\n",
    "\n",
    "\n",
    "class TripletAccuracy(Metric):\n",
    "    def __init__(self, threshold=0.5, name='triplet_metric', **kwargs):\n",
    "        super(TripletAccuracy, self).__init__(name=name, **kwargs)\n",
    "\n",
    "        self.count = self.add_weight(name='count',\n",
    "                                   dtype='float32', \n",
    "                                   shape=(), \n",
    "                                   initializer='zeros')\n",
    "\n",
    "        self.total = self.add_weight(name='total', \n",
    "                                   dtype='float32', \n",
    "                                   shape=(), \n",
    "                                   initializer='zeros')\n",
    "        self.threshold = threshold\n",
    "\n",
    "\n",
    "    def update_state(self, anchor, positive, negative):\n",
    "        # Computes similarity for Anchor and Positive\n",
    "        similarity = tf.reduce_sum(anchor * positive, axis=-1)\n",
    "        similarity = similarity / (tf.linalg.norm(anchor, axis=-1) * tf.linalg.norm(positive, axis=-1))\n",
    "        \n",
    "        matches = tf.reduce_sum(tf.cast(similarity >= self.threshold, tf.float32))\n",
    "        self.count.assign_add(matches)\n",
    "\n",
    "        # Computes similarity for Anchor and Negative\n",
    "        similarity = tf.reduce_sum(anchor * negative, axis=-1)\n",
    "        similarity = similarity / (tf.linalg.norm(anchor, axis=-1) * tf.linalg.norm(negative, axis=-1))\n",
    "        \n",
    "        matches = tf.reduce_sum(tf.cast(similarity < self.threshold, tf.float32))\n",
    "        self.count.assign_add(matches)\n",
    "\n",
    "        # Add total\n",
    "        self.total.assign_add(tf.cast(tf.shape(anchor)[0] * 2, dtype=tf.float32))\n",
    "\n",
    "\n",
    "    def result(self):\n",
    "        return self.count / self.total if self.total > 0.0 else 0.0\n",
    "\n",
    "\n",
    "    def reset_states(self):\n",
    "        self.total.assign(0.0)\n",
    "        self.count.assign(0.0)\n",
    "        \n",
    "\n",
    "ALPHA = 1.0\n",
    "triplet_loss = get_triplet_loss(ALPHA)\n",
    "train_acc = TripletAccuracy(threshold=0.5)\n",
    "valid_acc = TripletAccuracy(threshold=0.5)\n",
    "optimizer = Adam()"
   ]
  },
  {
   "cell_type": "code",
   "execution_count": 13,
   "id": "b94488b8-94f9-41f6-a124-6de7e711f1f0",
   "metadata": {},
   "outputs": [],
   "source": [
    "@tf.function\n",
    "def training_step(anchor, positive, negative):\n",
    "    loss = 0\n",
    "    with tf.GradientTape() as tape:\n",
    "        a = siamese_net(anchor, training=True)\n",
    "        p = siamese_net(positive, training=True)\n",
    "        n = siamese_net(negative, training=True)\n",
    "        loss = triplet_loss(a, p, n)\n",
    "        \n",
    "    train_acc.update_state(a, p, n)\n",
    "    variables = siamese_net.trainable_variables\n",
    "    grads = tape.gradient(loss, variables)\n",
    "    optimizer.apply_gradients(zip(grads, variables))\n",
    "    return loss"
   ]
  },
  {
   "cell_type": "code",
   "execution_count": 14,
   "id": "159de2f5-9d9d-4b56-902f-e13ecf1761d8",
   "metadata": {},
   "outputs": [],
   "source": [
    "@tf.function\n",
    "def validation_step(anchor, positive, negative):\n",
    "    a = siamese_net(anchor, training=False)\n",
    "    p = siamese_net(positive, training=False)\n",
    "    n = siamese_net(negative, training=False)\n",
    "    loss = triplet_loss(a, p, n)\n",
    "    valid_acc.update_state(a, p, n)\n",
    "    return loss"
   ]
  },
  {
   "cell_type": "code",
   "execution_count": 15,
   "id": "10c0829c-1234-487a-9dec-85a2cc3e1171",
   "metadata": {},
   "outputs": [],
   "source": [
    "def get_scheduler(initial_learning_rate, min_learning_rate=1e-5, weight=0.9):\n",
    "    def func(epoch):\n",
    "        return max(initial_learning_rate * weight ** epoch, min_learning_rate)\n",
    "    return func\n",
    "\n",
    "scheduler = get_scheduler(1e-2, weight=0.9)"
   ]
  },
  {
   "cell_type": "code",
   "execution_count": 16,
   "id": "659d3717-1c77-458b-bcd0-c643e4051c8b",
   "metadata": {},
   "outputs": [
    {
     "data": {
      "image/png": "[encoded data removed]",
      "text/plain": [
       "<Figure size 640x480 with 1 Axes>"
      ]
     },
     "metadata": {},
     "output_type": "display_data"
    }
   ],
   "source": [
    "plt.figure()\n",
    "ax = plt.subplot(111)\n",
    "ax.plot([x for x in range(30)], [scheduler(x) for x in range(30)]);\n",
    "ax.set_title('learning rate per epoch');\n",
    "ax.set_xlabel('epoch')\n",
    "ax.set_ylabel('learning_rate');\n",
    "ax.grid(c='#eee');"
   ]
  },
  {
   "cell_type": "code",
   "execution_count": 17,
   "id": "10128b85-8c25-4502-af31-e654c2a66e2b",
   "metadata": {},
   "outputs": [],
   "source": [
    "def train(epochs=10, learning_rate_scheduler=None):\n",
    "    train_loss_hist = []\n",
    "    valid_loss_hist = []\n",
    "    train_acc_hist = []\n",
    "    valid_acc_hist = []\n",
    "\n",
    "    for epoch in range(epochs):\n",
    "        train_acc.reset_states()\n",
    "        valid_acc.reset_states()\n",
    "        start = time.time()\n",
    "        train_mean_loss = 0\n",
    "        valid_mean_loss = 0\n",
    "        optimizer.learning_rate = scheduler(epoch)\n",
    "        print(f'Epoch {epoch + 1:>3}')\n",
    "\n",
    "        for step, (anchor, positive, negative) in enumerate(train_ds):\n",
    "            loss = training_step(anchor, positive, negative)\n",
    "            acc = train_acc.result()\n",
    "            train_mean_loss = train_mean_loss + (1 / (step + 1)) * (loss - train_mean_loss)\n",
    "            end = time.time()\n",
    "            print(f'\\r{int(end - start):>3} seconds | Step {step:>4}\\tloss: {train_mean_loss:>4.4f}\\taccuracy: {acc:>.3f}', end='')\n",
    "        print()\n",
    "        \n",
    "        train_loss_hist.append(train_mean_loss)\n",
    "        train_acc_hist.append(acc)\n",
    "\n",
    "        for step, (anchor, positive, negative) in enumerate(valid_ds):\n",
    "            loss = validation_step(anchor, positive, negative)\n",
    "            acc = valid_acc.result()\n",
    "            valid_mean_loss = valid_mean_loss + (1 / (step + 1)) * (loss - valid_mean_loss)\n",
    "\n",
    "            end = time.time()\n",
    "            print(f'\\r{int(end - start):>3} seconds | Step {step:>4}\\tloss: {valid_mean_loss:>4.4f}\\taccuracy: {acc:>.3f}', end='')\n",
    "        print()\n",
    "\n",
    "        valid_loss_hist.append(valid_mean_loss)\n",
    "        valid_acc_hist.append(acc)\n",
    "        \n",
    "\n",
    "    return {'epochs':list(range(0, epochs)), \n",
    "            'loss':train_loss_hist, \n",
    "            'acc':train_acc_hist, \n",
    "            'val_loss':valid_loss_hist, \n",
    "            'val_acc':valid_acc_hist}"
   ]
  },
  {
   "cell_type": "code",
   "execution_count": 18,
   "id": "799af588-f6ad-48c1-9ac7-96f518cfca09",
   "metadata": {},
   "outputs": [
    {
     "name": "stdout",
     "output_type": "stream",
     "text": [
      "Epoch   1\n"
     ]
    },
    {
     "name": "stderr",
     "output_type": "stream",
     "text": [
      "WARNING: All log messages before absl::InitializeLog() is called are written to STDERR\n",
      "I0000 00:00:1721102522.651613    7467 service.cc:146] XLA service 0x74d0b4003000 initialized for platform CUDA (this does not guarantee that XLA will be used). Devices:\n",
      "I0000 00:00:1721102522.652143    7467 service.cc:154]   StreamExecutor device (0): NVIDIA GeForce RTX 2060, Compute Capability 7.5\n",
      "I0000 00:00:1721102522.928735    7467 device_compiler.h:188] Compiled cluster using XLA!  This line is logged at most once for the lifetime of the process.\n"
     ]
    },
    {
     "name": "stdout",
     "output_type": "stream",
     "text": [
      "1743 seconds | Step 8874\tloss: 0.2062\taccuracy: 0.862\n",
      "2697 seconds | Step 8333\tloss: 0.0980\taccuracy: 0.929\n",
      "Epoch   2\n",
      "1701 seconds | Step 8874\tloss: 0.1303\taccuracy: 0.905\n",
      "2638 seconds | Step 8333\tloss: 0.0773\taccuracy: 0.945\n",
      "Epoch   3\n",
      "1715 seconds | Step 8874\tloss: 0.0999\taccuracy: 0.923\n",
      "2648 seconds | Step 8333\tloss: 0.0747\taccuracy: 0.947\n",
      "Epoch   4\n",
      "1757 seconds | Step 8874\tloss: 0.0777\taccuracy: 0.936\n",
      "2700 seconds | Step 8333\tloss: 0.0694\taccuracy: 0.950\n",
      "Epoch   5\n",
      "1795 seconds | Step 8874\tloss: 0.0596\taccuracy: 0.949\n",
      "2727 seconds | Step 8333\tloss: 0.0661\taccuracy: 0.955\n"
     ]
    }
   ],
   "source": [
    "history = train(epochs=5)"
   ]
  },
  {
   "cell_type": "markdown",
   "id": "0d79ada2-d464-41f3-b8d3-1a67f4364996",
   "metadata": {},
   "source": [
    "## Fine-Tuning"
   ]
  },
  {
   "cell_type": "code",
   "execution_count": 86,
   "id": "7710597b-c101-4f87-87dc-e88b41edce2e",
   "metadata": {},
   "outputs": [
    {
     "data": {
      "text/html": [
       "<pre style=\"white-space:pre;overflow-x:auto;line-height:normal;font-family:Menlo,'DejaVu Sans Mono',consolas,'Courier New',monospace\"><span style=\"font-weight: bold\">Model: \"siamese_network\"</span>\n",
       "</pre>\n"
      ],
      "text/plain": [
       "\u001b[1mModel: \"siamese_network\"\u001b[0m\n"
      ]
     },
     "metadata": {},
     "output_type": "display_data"
    },
    {
     "data": {
      "text/html": [
       "<pre style=\"white-space:pre;overflow-x:auto;line-height:normal;font-family:Menlo,'DejaVu Sans Mono',consolas,'Courier New',monospace\">┏━━━━━━━━━━━━━━━━━━━━━━━━━━━━━━━━━┳━━━━━━━━━━━━━━━━━━━━━━━━┳━━━━━━━━━━━━━━━┓\n",
       "┃<span style=\"font-weight: bold\"> Layer (type)                    </span>┃<span style=\"font-weight: bold\"> Output Shape           </span>┃<span style=\"font-weight: bold\">       Param # </span>┃\n",
       "┡━━━━━━━━━━━━━━━━━━━━━━━━━━━━━━━━━╇━━━━━━━━━━━━━━━━━━━━━━━━╇━━━━━━━━━━━━━━━┩\n",
       "│ resnet50 (<span style=\"color: #0087ff; text-decoration-color: #0087ff\">Functional</span>)           │ (<span style=\"color: #00d7ff; text-decoration-color: #00d7ff\">None</span>, <span style=\"color: #00af00; text-decoration-color: #00af00\">7</span>, <span style=\"color: #00af00; text-decoration-color: #00af00\">7</span>, <span style=\"color: #00af00; text-decoration-color: #00af00\">2048</span>)     │    <span style=\"color: #00af00; text-decoration-color: #00af00\">23,587,712</span> │\n",
       "├─────────────────────────────────┼────────────────────────┼───────────────┤\n",
       "│ global_avg                      │ (<span style=\"color: #00d7ff; text-decoration-color: #00d7ff\">None</span>, <span style=\"color: #00af00; text-decoration-color: #00af00\">2048</span>)           │             <span style=\"color: #00af00; text-decoration-color: #00af00\">0</span> │\n",
       "│ (<span style=\"color: #0087ff; text-decoration-color: #0087ff\">GlobalAveragePooling2D</span>)        │                        │               │\n",
       "├─────────────────────────────────┼────────────────────────┼───────────────┤\n",
       "│ dropout (<span style=\"color: #0087ff; text-decoration-color: #0087ff\">Dropout</span>)               │ ?                      │   <span style=\"color: #00af00; text-decoration-color: #00af00\">0</span> (unbuilt) │\n",
       "├─────────────────────────────────┼────────────────────────┼───────────────┤\n",
       "│ encoder_output (<span style=\"color: #0087ff; text-decoration-color: #0087ff\">Dense</span>)          │ (<span style=\"color: #00d7ff; text-decoration-color: #00d7ff\">None</span>, <span style=\"color: #00af00; text-decoration-color: #00af00\">128</span>)            │       <span style=\"color: #00af00; text-decoration-color: #00af00\">262,272</span> │\n",
       "├─────────────────────────────────┼────────────────────────┼───────────────┤\n",
       "│ lambda (<span style=\"color: #0087ff; text-decoration-color: #0087ff\">Lambda</span>)                 │ (<span style=\"color: #00d7ff; text-decoration-color: #00d7ff\">None</span>, <span style=\"color: #00af00; text-decoration-color: #00af00\">128</span>)            │             <span style=\"color: #00af00; text-decoration-color: #00af00\">0</span> │\n",
       "└─────────────────────────────────┴────────────────────────┴───────────────┘\n",
       "</pre>\n"
      ],
      "text/plain": [
       "┏━━━━━━━━━━━━━━━━━━━━━━━━━━━━━━━━━┳━━━━━━━━━━━━━━━━━━━━━━━━┳━━━━━━━━━━━━━━━┓\n",
       "┃\u001b[1m \u001b[0m\u001b[1mLayer (type)                   \u001b[0m\u001b[1m \u001b[0m┃\u001b[1m \u001b[0m\u001b[1mOutput Shape          \u001b[0m\u001b[1m \u001b[0m┃\u001b[1m \u001b[0m\u001b[1m      Param #\u001b[0m\u001b[1m \u001b[0m┃\n",
       "┡━━━━━━━━━━━━━━━━━━━━━━━━━━━━━━━━━╇━━━━━━━━━━━━━━━━━━━━━━━━╇━━━━━━━━━━━━━━━┩\n",
       "│ resnet50 (\u001b[38;5;33mFunctional\u001b[0m)           │ (\u001b[38;5;45mNone\u001b[0m, \u001b[38;5;34m7\u001b[0m, \u001b[38;5;34m7\u001b[0m, \u001b[38;5;34m2048\u001b[0m)     │    \u001b[38;5;34m23,587,712\u001b[0m │\n",
       "├─────────────────────────────────┼────────────────────────┼───────────────┤\n",
       "│ global_avg                      │ (\u001b[38;5;45mNone\u001b[0m, \u001b[38;5;34m2048\u001b[0m)           │             \u001b[38;5;34m0\u001b[0m │\n",
       "│ (\u001b[38;5;33mGlobalAveragePooling2D\u001b[0m)        │                        │               │\n",
       "├─────────────────────────────────┼────────────────────────┼───────────────┤\n",
       "│ dropout (\u001b[38;5;33mDropout\u001b[0m)               │ ?                      │   \u001b[38;5;34m0\u001b[0m (unbuilt) │\n",
       "├─────────────────────────────────┼────────────────────────┼───────────────┤\n",
       "│ encoder_output (\u001b[38;5;33mDense\u001b[0m)          │ (\u001b[38;5;45mNone\u001b[0m, \u001b[38;5;34m128\u001b[0m)            │       \u001b[38;5;34m262,272\u001b[0m │\n",
       "├─────────────────────────────────┼────────────────────────┼───────────────┤\n",
       "│ lambda (\u001b[38;5;33mLambda\u001b[0m)                 │ (\u001b[38;5;45mNone\u001b[0m, \u001b[38;5;34m128\u001b[0m)            │             \u001b[38;5;34m0\u001b[0m │\n",
       "└─────────────────────────────────┴────────────────────────┴───────────────┘\n"
      ]
     },
     "metadata": {},
     "output_type": "display_data"
    },
    {
     "data": {
      "text/html": [
       "<pre style=\"white-space:pre;overflow-x:auto;line-height:normal;font-family:Menlo,'DejaVu Sans Mono',consolas,'Courier New',monospace\"><span style=\"font-weight: bold\"> Total params: </span><span style=\"color: #00af00; text-decoration-color: #00af00\">23,849,984</span> (90.98 MB)\n",
       "</pre>\n"
      ],
      "text/plain": [
       "\u001b[1m Total params: \u001b[0m\u001b[38;5;34m23,849,984\u001b[0m (90.98 MB)\n"
      ]
     },
     "metadata": {},
     "output_type": "display_data"
    },
    {
     "data": {
      "text/html": [
       "<pre style=\"white-space:pre;overflow-x:auto;line-height:normal;font-family:Menlo,'DejaVu Sans Mono',consolas,'Courier New',monospace\"><span style=\"font-weight: bold\"> Trainable params: </span><span style=\"color: #00af00; text-decoration-color: #00af00\">9,193,600</span> (35.07 MB)\n",
       "</pre>\n"
      ],
      "text/plain": [
       "\u001b[1m Trainable params: \u001b[0m\u001b[38;5;34m9,193,600\u001b[0m (35.07 MB)\n"
      ]
     },
     "metadata": {},
     "output_type": "display_data"
    },
    {
     "data": {
      "text/html": [
       "<pre style=\"white-space:pre;overflow-x:auto;line-height:normal;font-family:Menlo,'DejaVu Sans Mono',consolas,'Courier New',monospace\"><span style=\"font-weight: bold\"> Non-trainable params: </span><span style=\"color: #00af00; text-decoration-color: #00af00\">14,656,384</span> (55.91 MB)\n",
       "</pre>\n"
      ],
      "text/plain": [
       "\u001b[1m Non-trainable params: \u001b[0m\u001b[38;5;34m14,656,384\u001b[0m (55.91 MB)\n"
      ]
     },
     "metadata": {},
     "output_type": "display_data"
    }
   ],
   "source": [
    "FREEZE_UP_TO = 143\n",
    "\n",
    "siamese_net.base_model.trainable = True\n",
    "\n",
    "for i in range(FREEZE_UP_TO):\n",
    "    siamese_net.base_model.layers[i].trainable = False\n",
    "\n",
    "siamese_net.summary()"
   ]
  },
  {
   "cell_type": "code",
   "execution_count": 87,
   "id": "8a337dc2-9178-41df-a73f-61e9695d15fc",
   "metadata": {},
   "outputs": [
    {
     "name": "stdout",
     "output_type": "stream",
     "text": [
      "Epoch   1\n",
      "1715 seconds | Step 8874\tloss: 0.0563\taccuracy: 0.953\n",
      "2647 seconds | Step 8333\tloss: 0.0707\taccuracy: 0.951\n"
     ]
    }
   ],
   "source": [
    "optimizer.learning_rate = 1e-4\n",
    "fine_tune_history = train(epochs=1)"
   ]
  },
  {
   "cell_type": "markdown",
   "id": "17a043c7-a7e8-4f4a-ae9b-f68aed8a9cd5",
   "metadata": {},
   "source": [
    "## Evaluation"
   ]
  },
  {
   "cell_type": "code",
   "execution_count": 88,
   "id": "70d24aec-6e15-4f11-be42-44b361d3da50",
   "metadata": {},
   "outputs": [],
   "source": [
    "def plot(history, fine_tune_history, key, ax):\n",
    "    epochs = history['epochs']\n",
    "    train_key = history[key]\n",
    "    val_key = history['val_' + key]\n",
    "\n",
    "    fine_tune_epochs = [x + len(epochs) for x in fine_tune_history['epochs']]\n",
    "    fine_train_key = fine_tune_history[key]\n",
    "    fine_val_key = fine_tune_history['val_' + key]\n",
    "\n",
    "    ax.plot(epochs + fine_tune_epochs, train_key + fine_train_key, label='train_' + key)\n",
    "    ax.plot(epochs + fine_tune_epochs, val_key + fine_val_key, label='val_' + key)\n",
    "    ax.axvline(x=fine_tune_epochs[0], c='red', label='fine_tune')\n",
    "    ax.grid(c='#eee')\n",
    "    ax.set_title(f'{key.capitalize()} per epoch')\n",
    "    ax.set_xlabel('x')\n",
    "    ax.set_ylabel(f'{key}')\n",
    "    return ax"
   ]
  },
  {
   "cell_type": "code",
   "execution_count": 89,
   "id": "546e98f8-2eb6-449d-bf9b-2a6718068204",
   "metadata": {},
   "outputs": [
    {
     "data": {
      "image/png": "[encoded data removed]",
      "text/plain": [
       "<Figure size 1000x500 with 2 Axes>"
      ]
     },
     "metadata": {},
     "output_type": "display_data"
    }
   ],
   "source": [
    "plt.figure(figsize=(10, 5))\n",
    "\n",
    "ax = plt.subplot(1, 2, 1)\n",
    "ax = plot(history, fine_tune_history, 'loss', ax)\n",
    "ax.legend();\n",
    "\n",
    "ax = plt.subplot(1, 2, 2)\n",
    "ax = plot(history, fine_tune_history, 'acc', ax)\n",
    "ax.legend();"
   ]
  },
  {
   "cell_type": "markdown",
   "id": "e70be860-c59c-44d2-9d84-7dd27e0fb334",
   "metadata": {},
   "source": [
    "## Save the model"
   ]
  },
  {
   "cell_type": "code",
   "execution_count": 119,
   "id": "1c8dbae3-d3df-488d-a6ab-c604d72e6fd6",
   "metadata": {},
   "outputs": [],
   "source": [
    "class FaceRecognizer(tf.Module):\n",
    "    def __init__(self, siamese_net, preprocess_input):\n",
    "        super(FaceRecognizer, self).__init__()\n",
    "        self.siamese_net = siamese_net\n",
    "        self.preprocess_input = preprocess_input\n",
    "\n",
    "    @tf.function(input_signature=[tf.TensorSpec(shape=(None, ) + IMAGE_SIZE + (3,), dtype=tf.float32), \n",
    "                                  tf.TensorSpec(shape=(None, ) + IMAGE_SIZE + (3,), dtype=tf.float32)])\n",
    "    def __call__(self, anchor, image):\n",
    "        anchor = tf.cast(anchor, tf.float32)\n",
    "        image = tf.cast(image, tf.float32)\n",
    "        anchor = preprocess_input(anchor)\n",
    "        image = preprocess_input(image)\n",
    "        anchor = self.siamese_net(anchor, training=False)\n",
    "        image = self.siamese_net(image, training=False)\n",
    "        similarity = tf.linalg.norm(anchor - image, axis=-1)\n",
    "        return similarity"
   ]
  },
  {
   "cell_type": "code",
   "execution_count": 120,
   "id": "cd9dfef5-23a4-44c4-bc6b-a5276b5a59e9",
   "metadata": {},
   "outputs": [],
   "source": [
    "recognizer = FaceRecognizer(siamese_net, preprocess_input)"
   ]
  },
  {
   "cell_type": "code",
   "execution_count": 121,
   "id": "d9cdee82-8b14-40a4-be23-d919c1063bbf",
   "metadata": {},
   "outputs": [],
   "source": [
    "anchor = cv2.imread('./temp/b1.jpg')\n",
    "anchor = cv2.cvtColor(anchor, cv2.COLOR_BGR2RGB)\n",
    "anchor = cv2.resize(anchor, IMAGE_SIZE)\n",
    "\n",
    "positive = cv2.imread('./temp/b2.jpg')\n",
    "positive = cv2.cvtColor(positive, cv2.COLOR_BGR2RGB)\n",
    "positive = cv2.resize(positive, IMAGE_SIZE)\n",
    "\n",
    "negative = cv2.imread('./temp/not_me.jpg')\n",
    "negative = cv2.cvtColor(negative, cv2.COLOR_BGR2RGB)\n",
    "negative = cv2.resize(negative, IMAGE_SIZE)"
   ]
  },
  {
   "cell_type": "code",
   "execution_count": 125,
   "id": "345027f4-7e31-461b-a064-e7757c628481",
   "metadata": {},
   "outputs": [
    {
     "name": "stdout",
     "output_type": "stream",
     "text": [
      "Value of 0.0 means the images are the same\n",
      "ME: 0.4674794\n",
      "NOT ME: 1.2639263\n"
     ]
    }
   ],
   "source": [
    "print(\"Value of 0.0 means the images are the same\")\n",
    "print('ME:', recognizer(anchor[tf.newaxis], positive[tf.newaxis]).numpy().flatten()[0])\n",
    "print('NOT ME:', recognizer(anchor[tf.newaxis], negative[tf.newaxis]).numpy().flatten()[0])"
   ]
  },
  {
   "cell_type": "code",
   "execution_count": 126,
   "id": "55fae93e-06da-4ce4-9120-4a4bab4878bf",
   "metadata": {},
   "outputs": [],
   "source": [
    "siamese_net.save('./models/siamese_net_v1.keras')"
   ]
  }
 ],
 "metadata": {
  "kernelspec": {
   "display_name": "Python 3 (ipykernel)",
   "language": "python",
   "name": "python3"
  },
  "language_info": {
   "codemirror_mode": {
    "name": "ipython",
    "version": 3
   },
   "file_extension": ".py",
   "mimetype": "text/x-python",
   "name": "python",
   "nbconvert_exporter": "python",
   "pygments_lexer": "ipython3",
   "version": "3.12.4"
  }
 },
 "nbformat": 4,
 "nbformat_minor": 5
}
